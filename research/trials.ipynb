{
 "cells": [
  {
   "cell_type": "code",
   "execution_count": 4,
   "id": "d3d6e361",
   "metadata": {},
   "outputs": [],
   "source": [
    "import yaml\n",
    "from langchain.prompts import PromptTemplate"
   ]
  },
  {
   "cell_type": "code",
   "execution_count": 2,
   "id": "63635625",
   "metadata": {},
   "outputs": [],
   "source": [
    "with open(\"/workspaces/github_analysis/src/prompts.yaml\", \"r\") as file:\n",
    "        data = yaml.safe_load(file)\n"
   ]
  },
  {
   "cell_type": "code",
   "execution_count": 3,
   "id": "24c50d0a",
   "metadata": {},
   "outputs": [
    {
     "data": {
      "text/plain": [
       "dict_keys(['resume_and_job_decription_rewrite', 'cold_mail_and_person_info', 'cold_mail_no_personal_info'])"
      ]
     },
     "execution_count": 3,
     "metadata": {},
     "output_type": "execute_result"
    }
   ],
   "source": [
    "data.keys()"
   ]
  },
  {
   "cell_type": "code",
   "execution_count": 11,
   "id": "0c436fc9",
   "metadata": {},
   "outputs": [],
   "source": [
    "class tool_maker:\n",
    "    def __init__(self, resume, job_description: str = None, personal_info:str=None):\n",
    "        self.resume = resume\n",
    "        self.job_description = job_description\n",
    "        self.personal_info = personal_info\n",
    "        self.data = data\n",
    "    def llm_fx(self, key) -> dict:\n",
    "        f\"\"\"{self.data[key][\"tool_use_case\"]}\"\"\"\n",
    "        input_variables = list(self.data[key][\"inputs\"].keys())\n",
    "        template = self.data[key][\"prompt\"].format(\n",
    "            resume=self.resume,\n",
    "            job_description=self.job_description,\n",
    "            personal_info=self.personal_info,\n",
    "            )\n",
    "        prompt_template = PromptTemplate(\n",
    "            input_variables=input_variables, template=template\n",
    "        )\n",
    "        chain = prompt_template | LLM().llm\n",
    "        response = chain.invoke(self.data[key][\"inputs\"]).content\n",
    "        \n",
    "        return response"
   ]
  },
  {
   "cell_type": "code",
   "execution_count": 7,
   "id": "c1fd36df",
   "metadata": {},
   "outputs": [
    {
     "data": {
      "text/plain": [
       "dict_keys(['resume_and_job_decription_rewrite', 'cold_mail_and_person_info', 'cold_mail_no_personal_info'])"
      ]
     },
     "execution_count": 7,
     "metadata": {},
     "output_type": "execute_result"
    }
   ],
   "source": [
    "data.keys()\n",
    "    "
   ]
  },
  {
   "cell_type": "code",
   "execution_count": 8,
   "id": "511ac6da",
   "metadata": {},
   "outputs": [
    {
     "ename": "NameError",
     "evalue": "name 'resume' is not defined",
     "output_type": "error",
     "traceback": [
      "\u001b[31m---------------------------------------------------------------------------\u001b[39m",
      "\u001b[31mNameError\u001b[39m                                 Traceback (most recent call last)",
      "\u001b[36mCell\u001b[39m\u001b[36m \u001b[39m\u001b[32mIn[8]\u001b[39m\u001b[32m, line 1\u001b[39m\n\u001b[32m----> \u001b[39m\u001b[32m1\u001b[39m tool_maker(\u001b[43mresume\u001b[49m,job_description).llm_fx(data.keys()[\u001b[32m0\u001b[39m])\n",
      "\u001b[31mNameError\u001b[39m: name 'resume' is not defined"
     ]
    }
   ],
   "source": [
    "tool_maker(resume,job_description).llm_fx(data.keys()[0])"
   ]
  },
  {
   "cell_type": "code",
   "execution_count": 9,
   "id": "f98a6320",
   "metadata": {},
   "outputs": [
    {
     "ename": "NameError",
     "evalue": "name 'resume' is not defined",
     "output_type": "error",
     "traceback": [
      "\u001b[31m---------------------------------------------------------------------------\u001b[39m",
      "\u001b[31mNameError\u001b[39m                                 Traceback (most recent call last)",
      "\u001b[36mCell\u001b[39m\u001b[36m \u001b[39m\u001b[32mIn[9]\u001b[39m\u001b[32m, line 1\u001b[39m\n\u001b[32m----> \u001b[39m\u001b[32m1\u001b[39m tool_maker(\u001b[43mresume\u001b[49m,personal_info).llm_fx(data.keys()[\u001b[32m1\u001b[39m])\n",
      "\u001b[31mNameError\u001b[39m: name 'resume' is not defined"
     ]
    }
   ],
   "source": [
    "tool_maker(resume,personal_info).llm_fx(data.keys()[1])"
   ]
  },
  {
   "cell_type": "code",
   "execution_count": 10,
   "id": "2563313d",
   "metadata": {},
   "outputs": [
    {
     "ename": "NameError",
     "evalue": "name 'resume' is not defined",
     "output_type": "error",
     "traceback": [
      "\u001b[31m---------------------------------------------------------------------------\u001b[39m",
      "\u001b[31mNameError\u001b[39m                                 Traceback (most recent call last)",
      "\u001b[36mCell\u001b[39m\u001b[36m \u001b[39m\u001b[32mIn[10]\u001b[39m\u001b[32m, line 1\u001b[39m\n\u001b[32m----> \u001b[39m\u001b[32m1\u001b[39m tool_maker(\u001b[43mresume\u001b[49m).llm_fx(data.keys()[\u001b[32m2\u001b[39m])\n",
      "\u001b[31mNameError\u001b[39m: name 'resume' is not defined"
     ]
    }
   ],
   "source": [
    "tool_maker(resume).llm_fx(data.keys()[2])"
   ]
  },
  {
   "cell_type": "code",
   "execution_count": null,
   "id": "8de9cf9a",
   "metadata": {},
   "outputs": [],
   "source": []
  }
 ],
 "metadata": {
  "kernelspec": {
   "display_name": ".venv",
   "language": "python",
   "name": "python3"
  },
  "language_info": {
   "codemirror_mode": {
    "name": "ipython",
    "version": 3
   },
   "file_extension": ".py",
   "mimetype": "text/x-python",
   "name": "python",
   "nbconvert_exporter": "python",
   "pygments_lexer": "ipython3",
   "version": "3.12.1"
  }
 },
 "nbformat": 4,
 "nbformat_minor": 5
}
